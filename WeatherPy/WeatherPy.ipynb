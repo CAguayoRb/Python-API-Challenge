{
 "cells": [
  {
   "cell_type": "markdown",
   "metadata": {},
   "source": [
    "# WeatherPy\n",
    "----\n",
    "\n",
    "#### Note\n",
    "* Instructions have been included for each segment. You do not have to follow them exactly, but they are included to help you think through the steps."
   ]
  },
  {
   "cell_type": "code",
   "execution_count": 2,
   "metadata": {
    "scrolled": true
   },
   "outputs": [],
   "source": [
    "# Dependencies and Setup\n",
    "import matplotlib.pyplot as plt\n",
    "import pandas as pd\n",
    "import numpy as np\n",
    "import requests\n",
    "import time\n",
    "from scipy.stats import linregress\n",
    "\n",
    "# Import API key\n",
    "from api_keys import weather_api_key \n",
    "\n",
    "# Incorporated citipy to determine city based on latitude and longitude\n",
    "from citipy import citipy \n",
    "\n",
    "# Output File (CSV)\n",
    "output_data_file = \"cities.csv\"\n",
    "\n",
    "# Range of latitudes and longitudes\n",
    "lat_range = (-90, 90)\n",
    "lng_range = (-180, 180)\n"
   ]
  },
  {
   "cell_type": "markdown",
   "metadata": {},
   "source": [
    "## Generate Cities List"
   ]
  },
  {
   "cell_type": "code",
   "execution_count": 3,
   "metadata": {},
   "outputs": [
    {
     "name": "stdout",
     "output_type": "stream",
     "text": [
      "The number of cities is: 651\n"
     ]
    }
   ],
   "source": [
    "# Range of latitudes and longitudes\n",
    "lat_range = (-90, 90)\n",
    "lng_range = (-180, 180)\n",
    "\n",
    "# List for holding lat_lngs and cities\n",
    "lat_lngs = []\n",
    "cities = []\n",
    "\n",
    "# Create a set of random lat and lng combinations\n",
    "lats = np.random.uniform(lat_range[0], lat_range[1], size=1500)\n",
    "lngs = np.random.uniform(lng_range[0], lng_range[1], size=1500)\n",
    "lat_lngs = zip(lats, lngs)\n",
    "\n",
    "# Identify nearest city for each lat, lng combination\n",
    "for lat_lng in lat_lngs:\n",
    "    city = citipy.nearest_city(lat_lng[0], lat_lng[1]).city_name\n",
    "    \n",
    "    # If the city is unique, then add it to a our cities list\n",
    "    if city not in cities:\n",
    "        cities.append(city)\n",
    "        \n",
    "#Do we need a URL?\n",
    "#\"http://api.openweathermap.org/data/2.5/weather?\"????\n",
    "\n",
    "# Print the city count to confirm sufficient count\n",
    "num_cities = len(cities)\n",
    "print (f\"The number of cities is: {num_cities}\")"
   ]
  },
  {
   "cell_type": "markdown",
   "metadata": {},
   "source": [
    "### Perform API Calls\n",
    "* Perform a weather check on each city using a series of successive API calls.\n",
    "* Include a print log of each city as it'sbeing processed (with the city number and city name).\n"
   ]
  },
  {
   "cell_type": "code",
   "execution_count": 4,
   "metadata": {},
   "outputs": [
    {
     "name": "stdout",
     "output_type": "stream",
     "text": [
      "Beginning Data Retrival\n",
      "Processing Record 1 of Set 1 | ponta do sol\n",
      "Processing Record 2 of Set 1 | bukama\n",
      "Processing Record 3 of Set 1 | sandy bay\n",
      "Processing Record 4 of Set 1 | vao\n",
      "City not found. Skipping...\n",
      "Processing Record 5 of Set 1 | hilo\n",
      "Processing Record 6 of Set 1 | rikitea\n",
      "Processing Record 7 of Set 1 | ushuaia\n",
      "Processing Record 8 of Set 1 | saskylakh\n",
      "Processing Record 9 of Set 1 | haines junction\n",
      "Processing Record 10 of Set 1 | tautira\n",
      "City not found. Skipping...\n",
      "Processing Record 11 of Set 1 | castro\n",
      "Processing Record 12 of Set 1 | airai\n",
      "Processing Record 13 of Set 1 | avesta\n",
      "Processing Record 14 of Set 1 | norfolk\n",
      "Processing Record 15 of Set 1 | saiha\n",
      "Processing Record 16 of Set 1 | nikolskoye\n",
      "Processing Record 17 of Set 1 | torbay\n",
      "City not found. Skipping...\n",
      "Processing Record 18 of Set 1 | oswego\n",
      "Processing Record 19 of Set 1 | vestmanna\n",
      "Processing Record 20 of Set 1 | jamestown\n",
      "Processing Record 21 of Set 1 | osmena\n",
      "Processing Record 22 of Set 1 | cockburn town\n",
      "City not found. Skipping...\n",
      "Processing Record 23 of Set 1 | grand gaube\n",
      "Processing Record 24 of Set 1 | bucerias\n",
      "Processing Record 25 of Set 1 | moree\n",
      "Processing Record 26 of Set 1 | binzhou\n",
      "City not found. Skipping...\n",
      "Processing Record 27 of Set 1 | labuhan\n",
      "Processing Record 28 of Set 1 | tiksi\n",
      "Processing Record 29 of Set 1 | kaitangata\n",
      "Processing Record 30 of Set 1 | prince rupert\n",
      "Processing Record 31 of Set 1 | luocheng\n",
      "City not found. Skipping...\n",
      "Processing Record 32 of Set 1 | fortuna\n",
      "Processing Record 33 of Set 1 | kapaa\n",
      "Processing Record 34 of Set 1 | dikson\n",
      "Processing Record 35 of Set 1 | saint-philippe\n",
      "Processing Record 36 of Set 1 | port macquarie\n",
      "Processing Record 37 of Set 1 | cape town\n",
      "Processing Record 38 of Set 1 | busselton\n",
      "Processing Record 39 of Set 1 | punta arenas\n",
      "Processing Record 40 of Set 1 | tres palos\n",
      "Processing Record 41 of Set 1 | qaanaaq\n",
      "City not found. Skipping...\n",
      "Processing Record 42 of Set 1 | luwuk\n",
      "Processing Record 43 of Set 1 | minab\n",
      "Processing Record 44 of Set 1 | bethel\n",
      "Processing Record 45 of Set 1 | ajdabiya\n",
      "City not found. Skipping...\n",
      "Processing Record 46 of Set 1 | new norfolk\n",
      "Processing Record 47 of Set 1 | thompson\n",
      "Processing Record 48 of Set 1 | butaritari\n",
      "Processing Record 49 of Set 1 | north platte\n",
      "Processing Record 1 of Set 2 | muskogee\n",
      "Processing Record 2 of Set 2 | hermanus\n",
      "Processing Record 3 of Set 2 | goderich\n",
      "Processing Record 4 of Set 2 | fairbanks\n",
      "Processing Record 5 of Set 2 | antsohihy\n",
      "Processing Record 6 of Set 2 | bluff\n",
      "Processing Record 7 of Set 2 | sedalia\n",
      "Processing Record 8 of Set 2 | boende\n",
      "Processing Record 9 of Set 2 | kavaratti\n",
      "Processing Record 10 of Set 2 | katsuura\n",
      "Processing Record 11 of Set 2 | east london\n",
      "Processing Record 12 of Set 2 | lebu\n",
      "Processing Record 13 of Set 2 | alta floresta\n",
      "Processing Record 14 of Set 2 | honiara\n",
      "City not found. Skipping...\n",
      "Processing Record 15 of Set 2 | garden city\n",
      "Processing Record 16 of Set 2 | port alfred\n",
      "Processing Record 17 of Set 2 | bafra\n",
      "Processing Record 18 of Set 2 | tuktoyaktuk\n",
      "Processing Record 19 of Set 2 | vaini\n",
      "Processing Record 20 of Set 2 | mbanza-ngungu\n",
      "Processing Record 21 of Set 2 | narsaq\n",
      "Processing Record 22 of Set 2 | magadan\n",
      "Processing Record 23 of Set 2 | padang\n",
      "Processing Record 24 of Set 2 | albany\n",
      "Processing Record 25 of Set 2 | avarua\n",
      "Processing Record 26 of Set 2 | launceston\n",
      "Processing Record 27 of Set 2 | yulara\n",
      "Processing Record 28 of Set 2 | villeta\n",
      "Processing Record 29 of Set 2 | yellowknife\n",
      "Processing Record 30 of Set 2 | abensberg\n",
      "Processing Record 31 of Set 2 | dayong\n",
      "Processing Record 32 of Set 2 | punta alta\n",
      "Processing Record 33 of Set 2 | banjarmasin\n",
      "Processing Record 34 of Set 2 | chokurdakh\n",
      "Processing Record 35 of Set 2 | belize\n",
      "Processing Record 36 of Set 2 | puerto ayora\n",
      "Processing Record 37 of Set 2 | nemuro\n",
      "City not found. Skipping...\n",
      "Processing Record 38 of Set 2 | palmer\n",
      "Processing Record 39 of Set 2 | port elizabeth\n",
      "City not found. Skipping...\n",
      "City not found. Skipping...\n",
      "Processing Record 40 of Set 2 | rock falls\n",
      "City not found. Skipping...\n",
      "Processing Record 41 of Set 2 | luganville\n",
      "Processing Record 42 of Set 2 | ribeira grande\n",
      "Processing Record 43 of Set 2 | esperance\n",
      "Processing Record 44 of Set 2 | cap-haitien\n",
      "Processing Record 45 of Set 2 | dzhebariki-khaya\n",
      "Processing Record 46 of Set 2 | ancud\n",
      "Processing Record 47 of Set 2 | buala\n",
      "Processing Record 48 of Set 2 | sterling\n",
      "Processing Record 49 of Set 2 | barrow\n",
      "Processing Record 1 of Set 3 | mataura\n",
      "Processing Record 2 of Set 3 | tasiilaq\n",
      "Processing Record 3 of Set 3 | nelson bay\n",
      "City not found. Skipping...\n",
      "Processing Record 4 of Set 3 | likasi\n",
      "City not found. Skipping...\n",
      "Processing Record 5 of Set 3 | mys shmidta\n",
      "Processing Record 6 of Set 3 | botwood\n",
      "Processing Record 7 of Set 3 | petropavlovsk-kamchatskiy\n",
      "Processing Record 8 of Set 3 | hithadhoo\n",
      "Processing Record 9 of Set 3 | sinazongwe\n",
      "Processing Record 10 of Set 3 | pisco\n",
      "Processing Record 11 of Set 3 | atuona\n",
      "Processing Record 12 of Set 3 | kamaishi\n",
      "Processing Record 13 of Set 3 | gunjur\n",
      "Processing Record 14 of Set 3 | port augusta\n",
      "Processing Record 15 of Set 3 | townsville\n",
      "Processing Record 16 of Set 3 | ushtobe\n",
      "City not found. Skipping...\n",
      "Processing Record 17 of Set 3 | caravelas\n",
      "City not found. Skipping...\n",
      "City not found. Skipping...\n",
      "Processing Record 18 of Set 3 | bambous virieux\n",
      "Processing Record 19 of Set 3 | vidisha\n",
      "Processing Record 20 of Set 3 | lazaro cardenas\n",
      "Processing Record 21 of Set 3 | mana\n",
      "Processing Record 22 of Set 3 | saint-augustin\n",
      "City not found. Skipping...\n",
      "Processing Record 23 of Set 3 | kieta\n",
      "Processing Record 24 of Set 3 | dunedin\n",
      "Processing Record 25 of Set 3 | digoin\n",
      "Processing Record 26 of Set 3 | gorin\n",
      "Processing Record 27 of Set 3 | iqaluit\n",
      "Processing Record 28 of Set 3 | tsiroanomandidy\n",
      "Processing Record 29 of Set 3 | asau\n",
      "Processing Record 30 of Set 3 | victor harbor\n",
      "Processing Record 31 of Set 3 | mar del plata\n",
      "Processing Record 32 of Set 3 | mount isa\n",
      "Processing Record 33 of Set 3 | tongzi\n",
      "Processing Record 34 of Set 3 | zemio\n",
      "Processing Record 35 of Set 3 | abu samrah\n",
      "Processing Record 36 of Set 3 | bengkulu\n",
      "Processing Record 37 of Set 3 | forio\n",
      "Processing Record 38 of Set 3 | isangel\n",
      "Processing Record 39 of Set 3 | meaford\n",
      "Processing Record 40 of Set 3 | trelew\n",
      "City not found. Skipping...\n",
      "Processing Record 41 of Set 3 | sao filipe\n",
      "Processing Record 42 of Set 3 | verdun\n",
      "Processing Record 43 of Set 3 | brokopondo\n",
      "Processing Record 44 of Set 3 | paidha\n",
      "Processing Record 45 of Set 3 | half moon bay\n",
      "Processing Record 46 of Set 3 | norman wells\n",
      "Processing Record 47 of Set 3 | aseri\n",
      "Processing Record 48 of Set 3 | clyde river\n",
      "Processing Record 49 of Set 3 | kahului\n",
      "Processing Record 1 of Set 4 | rincon\n",
      "Processing Record 2 of Set 4 | kodiak\n",
      "Processing Record 3 of Set 4 | porto novo\n",
      "Processing Record 4 of Set 4 | carnarvon\n",
      "Processing Record 5 of Set 4 | sechura\n",
      "Processing Record 6 of Set 4 | provideniya\n",
      "Processing Record 7 of Set 4 | mayo\n",
      "Processing Record 8 of Set 4 | boddam\n",
      "Processing Record 9 of Set 4 | katherine\n",
      "Processing Record 10 of Set 4 | tournai\n",
      "Processing Record 11 of Set 4 | pemberton\n",
      "City not found. Skipping...\n",
      "Processing Record 12 of Set 4 | mount gambier\n",
      "Processing Record 13 of Set 4 | odweyne\n",
      "Processing Record 14 of Set 4 | matara\n",
      "Processing Record 15 of Set 4 | nishihara\n",
      "Processing Record 16 of Set 4 | nueva guinea\n",
      "Processing Record 17 of Set 4 | pevek\n",
      "Processing Record 18 of Set 4 | nouadhibou\n",
      "Processing Record 19 of Set 4 | qasigiannguit\n",
      "Processing Record 20 of Set 4 | falun\n",
      "Processing Record 21 of Set 4 | vila velha\n",
      "Processing Record 22 of Set 4 | yangjiang\n",
      "Processing Record 23 of Set 4 | zhuzhou\n",
      "Processing Record 24 of Set 4 | warman\n",
      "Processing Record 25 of Set 4 | sioux lookout\n",
      "Processing Record 26 of Set 4 | hobart\n",
      "Processing Record 27 of Set 4 | roma\n",
      "Processing Record 28 of Set 4 | naze\n",
      "Processing Record 29 of Set 4 | chuy\n",
      "Processing Record 30 of Set 4 | fengxian\n",
      "Processing Record 31 of Set 4 | caselle torinese\n",
      "Processing Record 32 of Set 4 | bilibino\n",
      "Processing Record 33 of Set 4 | porto tolle\n",
      "Processing Record 34 of Set 4 | omboue\n",
      "Processing Record 35 of Set 4 | samut prakan\n",
      "City not found. Skipping...\n",
      "Processing Record 36 of Set 4 | kimbe\n",
      "Processing Record 37 of Set 4 | baykit\n"
     ]
    },
    {
     "name": "stdout",
     "output_type": "stream",
     "text": [
      "Processing Record 38 of Set 4 | bathsheba\n",
      "Processing Record 39 of Set 4 | bredasdorp\n",
      "Processing Record 40 of Set 4 | west wendover\n",
      "City not found. Skipping...\n",
      "Processing Record 41 of Set 4 | safford\n",
      "Processing Record 42 of Set 4 | puerto escondido\n",
      "Processing Record 43 of Set 4 | zermatt\n",
      "Processing Record 44 of Set 4 | cherskiy\n",
      "Processing Record 45 of Set 4 | axim\n",
      "Processing Record 46 of Set 4 | makakilo city\n",
      "Processing Record 47 of Set 4 | san buenaventura\n",
      "Processing Record 48 of Set 4 | talnakh\n",
      "City not found. Skipping...\n",
      "Processing Record 49 of Set 4 | geraldton\n",
      "Processing Record 1 of Set 5 | port shepstone\n",
      "Processing Record 2 of Set 5 | port lincoln\n",
      "City not found. Skipping...\n",
      "Processing Record 3 of Set 5 | clarence town\n",
      "Processing Record 4 of Set 5 | sal rei\n",
      "Processing Record 5 of Set 5 | tromso\n",
      "Processing Record 6 of Set 5 | moose factory\n",
      "Processing Record 7 of Set 5 | agawam\n",
      "Processing Record 8 of Set 5 | lamu\n",
      "Processing Record 9 of Set 5 | shelburne\n",
      "Processing Record 10 of Set 5 | kensington\n",
      "Processing Record 11 of Set 5 | muttupet\n",
      "Processing Record 12 of Set 5 | evensk\n",
      "Processing Record 13 of Set 5 | kigoma\n",
      "Processing Record 14 of Set 5 | lompoc\n",
      "Processing Record 15 of Set 5 | yining\n",
      "Processing Record 16 of Set 5 | margate\n",
      "Processing Record 17 of Set 5 | kununurra\n",
      "Processing Record 18 of Set 5 | morant bay\n",
      "Processing Record 19 of Set 5 | igunga\n",
      "Processing Record 20 of Set 5 | cidreira\n",
      "Processing Record 21 of Set 5 | faanui\n",
      "Processing Record 22 of Set 5 | puerto leguizamo\n",
      "Processing Record 23 of Set 5 | cap malheureux\n",
      "Processing Record 24 of Set 5 | binabalian\n",
      "Processing Record 25 of Set 5 | elk plain\n",
      "Processing Record 26 of Set 5 | dillon\n",
      "Processing Record 27 of Set 5 | necochea\n",
      "Processing Record 28 of Set 5 | atyrau\n",
      "Processing Record 29 of Set 5 | okhotsk\n",
      "Processing Record 30 of Set 5 | turukhansk\n",
      "Processing Record 31 of Set 5 | ratnagiri\n",
      "Processing Record 32 of Set 5 | lasa\n",
      "Processing Record 33 of Set 5 | jati\n",
      "Processing Record 34 of Set 5 | arraial do cabo\n",
      "Processing Record 35 of Set 5 | hasaki\n",
      "Processing Record 36 of Set 5 | okha\n",
      "Processing Record 37 of Set 5 | georgetown\n",
      "Processing Record 38 of Set 5 | ambilobe\n",
      "Processing Record 39 of Set 5 | san patricio\n",
      "Processing Record 40 of Set 5 | kenora\n",
      "Processing Record 41 of Set 5 | westport\n",
      "Processing Record 42 of Set 5 | yaypan\n",
      "City not found. Skipping...\n",
      "Processing Record 43 of Set 5 | ilulissat\n",
      "Processing Record 44 of Set 5 | jonesboro\n",
      "Processing Record 45 of Set 5 | pale\n",
      "Processing Record 46 of Set 5 | bambanglipuro\n",
      "Processing Record 47 of Set 5 | medford\n",
      "Processing Record 48 of Set 5 | lovozero\n",
      "Processing Record 49 of Set 5 | havoysund\n",
      "Processing Record 1 of Set 6 | kruisfontein\n",
      "Processing Record 2 of Set 6 | alofi\n",
      "City not found. Skipping...\n",
      "Processing Record 3 of Set 6 | khatanga\n",
      "Processing Record 4 of Set 6 | sabang\n",
      "Processing Record 5 of Set 6 | paamiut\n",
      "Processing Record 6 of Set 6 | ormara\n",
      "Processing Record 7 of Set 6 | marawi\n",
      "Processing Record 8 of Set 6 | jacareacanga\n",
      "Processing Record 9 of Set 6 | krasnyy yar\n",
      "Processing Record 10 of Set 6 | bulungu\n",
      "Processing Record 11 of Set 6 | meulaboh\n",
      "Processing Record 12 of Set 6 | abengourou\n",
      "Processing Record 13 of Set 6 | college\n",
      "Processing Record 14 of Set 6 | qujing\n",
      "Processing Record 15 of Set 6 | taldan\n",
      "Processing Record 16 of Set 6 | baraboo\n",
      "Processing Record 17 of Set 6 | aklavik\n",
      "City not found. Skipping...\n",
      "Processing Record 18 of Set 6 | north bend\n",
      "Processing Record 19 of Set 6 | amga\n",
      "Processing Record 20 of Set 6 | ust-ilimsk\n",
      "City not found. Skipping...\n",
      "Processing Record 21 of Set 6 | salalah\n",
      "Processing Record 22 of Set 6 | velika gorica\n",
      "Processing Record 23 of Set 6 | coello\n",
      "Processing Record 24 of Set 6 | ozuluama\n",
      "Processing Record 25 of Set 6 | shimoda\n",
      "Processing Record 26 of Set 6 | vostok\n",
      "Processing Record 27 of Set 6 | sisimiut\n",
      "Processing Record 28 of Set 6 | ostrovnoy\n",
      "Processing Record 29 of Set 6 | miraflores\n",
      "Processing Record 30 of Set 6 | ashoknagar\n",
      "Processing Record 31 of Set 6 | cangzhou\n",
      "Processing Record 32 of Set 6 | gorontalo\n",
      "Processing Record 33 of Set 6 | codrington\n",
      "Processing Record 34 of Set 6 | huarmey\n",
      "Processing Record 35 of Set 6 | camacha\n",
      "Processing Record 36 of Set 6 | abu dhabi\n",
      "Processing Record 37 of Set 6 | cepelare\n",
      "Processing Record 38 of Set 6 | mehran\n",
      "City not found. Skipping...\n",
      "Processing Record 39 of Set 6 | santa isabel do rio negro\n",
      "Processing Record 40 of Set 6 | horsham\n",
      "Processing Record 41 of Set 6 | dingle\n",
      "Processing Record 42 of Set 6 | neiafu\n",
      "Processing Record 43 of Set 6 | noumea\n",
      "Processing Record 44 of Set 6 | armacao dos buzios\n",
      "Processing Record 45 of Set 6 | port blair\n",
      "Processing Record 46 of Set 6 | marsh harbour\n",
      "Processing Record 47 of Set 6 | klaksvik\n",
      "Processing Record 48 of Set 6 | killybegs\n",
      "Processing Record 49 of Set 6 | kushima\n",
      "Processing Record 1 of Set 7 | kichera\n",
      "Processing Record 2 of Set 7 | touros\n",
      "City not found. Skipping...\n",
      "Processing Record 3 of Set 7 | amahai\n",
      "Processing Record 4 of Set 7 | maniitsoq\n",
      "Processing Record 5 of Set 7 | belmonte\n",
      "Processing Record 6 of Set 7 | havelock\n",
      "Processing Record 7 of Set 7 | port keats\n",
      "Processing Record 8 of Set 7 | guerrero negro\n",
      "City not found. Skipping...\n",
      "Processing Record 9 of Set 7 | lucea\n",
      "Processing Record 10 of Set 7 | mahebourg\n",
      "City not found. Skipping...\n",
      "Processing Record 11 of Set 7 | yantal\n",
      "Processing Record 12 of Set 7 | sri aman\n",
      "Processing Record 13 of Set 7 | verkhnyaya inta\n",
      "Processing Record 14 of Set 7 | turtas\n",
      "City not found. Skipping...\n",
      "City not found. Skipping...\n",
      "Processing Record 15 of Set 7 | olga\n",
      "Processing Record 16 of Set 7 | chapais\n",
      "Processing Record 17 of Set 7 | hualmay\n",
      "Processing Record 18 of Set 7 | svetlogorsk\n",
      "Processing Record 19 of Set 7 | manacapuru\n",
      "Processing Record 20 of Set 7 | stephenville crossing\n",
      "Processing Record 21 of Set 7 | vardo\n",
      "City not found. Skipping...\n",
      "Processing Record 22 of Set 7 | lincoln\n",
      "Processing Record 23 of Set 7 | tuskegee\n",
      "Processing Record 24 of Set 7 | challapata\n",
      "Processing Record 25 of Set 7 | portland\n",
      "Processing Record 26 of Set 7 | zhanakorgan\n",
      "Processing Record 27 of Set 7 | lieksa\n",
      "Processing Record 28 of Set 7 | manjacaze\n",
      "Processing Record 29 of Set 7 | luderitz\n",
      "City not found. Skipping...\n",
      "Processing Record 30 of Set 7 | beloha\n",
      "Processing Record 31 of Set 7 | zmeinogorsk\n",
      "Processing Record 32 of Set 7 | grand river south east\n",
      "Processing Record 33 of Set 7 | payakumbuh\n",
      "Processing Record 34 of Set 7 | port jervis\n",
      "Processing Record 35 of Set 7 | husavik\n",
      "Processing Record 36 of Set 7 | flin flon\n",
      "Processing Record 37 of Set 7 | barra do corda\n",
      "City not found. Skipping...\n",
      "City not found. Skipping...\n",
      "Processing Record 38 of Set 7 | saldanha\n",
      "City not found. Skipping...\n",
      "Processing Record 39 of Set 7 | bouza\n",
      "Processing Record 40 of Set 7 | parrita\n",
      "Processing Record 41 of Set 7 | mwene-ditu\n",
      "Processing Record 42 of Set 7 | ulaangom\n",
      "Processing Record 43 of Set 7 | dingli\n",
      "Processing Record 44 of Set 7 | alvorada\n",
      "Processing Record 45 of Set 7 | eureka\n",
      "Processing Record 46 of Set 7 | whitehorse\n",
      "City not found. Skipping...\n",
      "Processing Record 47 of Set 7 | sola\n",
      "Processing Record 48 of Set 7 | wilmington\n",
      "Processing Record 49 of Set 7 | blanes\n",
      "Processing Record 1 of Set 8 | kasongo-lunda\n",
      "Processing Record 2 of Set 8 | kloulklubed\n",
      "City not found. Skipping...\n",
      "Processing Record 3 of Set 8 | alihe\n",
      "Processing Record 4 of Set 8 | andenes\n",
      "Processing Record 5 of Set 8 | phalodi\n",
      "Processing Record 6 of Set 8 | lashio\n",
      "Processing Record 7 of Set 8 | faya\n",
      "Processing Record 8 of Set 8 | nanortalik\n",
      "City not found. Skipping...\n",
      "Processing Record 9 of Set 8 | severo-kurilsk\n",
      "Processing Record 10 of Set 8 | corinto\n",
      "Processing Record 11 of Set 8 | samarai\n",
      "Processing Record 12 of Set 8 | christchurch\n",
      "Processing Record 13 of Set 8 | yankton\n",
      "City not found. Skipping...\n",
      "Processing Record 14 of Set 8 | itai\n",
      "Processing Record 15 of Set 8 | longyearbyen\n",
      "Processing Record 16 of Set 8 | ust-barguzin\n",
      "Processing Record 17 of Set 8 | rundu\n",
      "Processing Record 18 of Set 8 | veraval\n",
      "Processing Record 19 of Set 8 | constitucion\n",
      "Processing Record 20 of Set 8 | bandarbeyla\n",
      "Processing Record 21 of Set 8 | klyuchi\n",
      "Processing Record 22 of Set 8 | butterworth\n",
      "City not found. Skipping...\n",
      "Processing Record 23 of Set 8 | biak\n",
      "Processing Record 24 of Set 8 | cabo san lucas\n"
     ]
    },
    {
     "name": "stdout",
     "output_type": "stream",
     "text": [
      "Processing Record 25 of Set 8 | krasnoselkup\n",
      "Processing Record 26 of Set 8 | santa maria\n",
      "Processing Record 27 of Set 8 | nhulunbuy\n",
      "Processing Record 28 of Set 8 | ende\n",
      "Processing Record 29 of Set 8 | sitka\n",
      "Processing Record 30 of Set 8 | green river\n",
      "Processing Record 31 of Set 8 | lavrentiya\n",
      "Processing Record 32 of Set 8 | bichura\n",
      "Processing Record 33 of Set 8 | koslan\n",
      "Processing Record 34 of Set 8 | sambava\n",
      "City not found. Skipping...\n",
      "Processing Record 35 of Set 8 | mangrol\n",
      "Processing Record 36 of Set 8 | laguna\n",
      "Processing Record 37 of Set 8 | souillac\n",
      "Processing Record 38 of Set 8 | olinda\n",
      "Processing Record 39 of Set 8 | lingao\n",
      "Processing Record 40 of Set 8 | morehead\n",
      "Processing Record 41 of Set 8 | lagoa\n",
      "Processing Record 42 of Set 8 | griffith\n",
      "Processing Record 43 of Set 8 | nijar\n",
      "City not found. Skipping...\n",
      "Processing Record 44 of Set 8 | kavieng\n",
      "City not found. Skipping...\n",
      "Processing Record 45 of Set 8 | mareeba\n",
      "Processing Record 46 of Set 8 | ola\n",
      "Processing Record 47 of Set 8 | moindou\n",
      "Processing Record 48 of Set 8 | daru\n",
      "Processing Record 49 of Set 8 | meiganga\n",
      "City not found. Skipping...\n",
      "City not found. Skipping...\n",
      "Processing Record 1 of Set 9 | tuatapere\n",
      "Processing Record 2 of Set 9 | mackenzie\n",
      "City not found. Skipping...\n",
      "Processing Record 3 of Set 9 | jilib\n",
      "Processing Record 4 of Set 9 | shaowu\n",
      "Processing Record 5 of Set 9 | pundaguitan\n",
      "Processing Record 6 of Set 9 | dongli\n",
      "Processing Record 7 of Set 9 | kitale\n",
      "Processing Record 8 of Set 9 | oban\n",
      "Processing Record 9 of Set 9 | lamont\n",
      "Processing Record 10 of Set 9 | kantunilkin\n",
      "Processing Record 11 of Set 9 | hami\n",
      "Processing Record 12 of Set 9 | banting\n",
      "Processing Record 13 of Set 9 | genhe\n",
      "Processing Record 14 of Set 9 | kaputa\n",
      "Processing Record 15 of Set 9 | shahrud\n",
      "Processing Record 16 of Set 9 | lata\n",
      "Processing Record 17 of Set 9 | pinheiro machado\n",
      "City not found. Skipping...\n",
      "Processing Record 18 of Set 9 | gladstone\n",
      "Processing Record 19 of Set 9 | egvekinot\n",
      "City not found. Skipping...\n",
      "Processing Record 20 of Set 9 | upernavik\n",
      "Processing Record 21 of Set 9 | dhidhdhoo\n",
      "City not found. Skipping...\n",
      "Processing Record 22 of Set 9 | esso\n",
      "Processing Record 23 of Set 9 | yar-sale\n",
      "Processing Record 24 of Set 9 | muzaffarabad\n",
      "Processing Record 25 of Set 9 | bubaque\n",
      "Processing Record 26 of Set 9 | vera cruz\n",
      "City not found. Skipping...\n",
      "Processing Record 27 of Set 9 | aurillac\n",
      "Processing Record 28 of Set 9 | victoria\n",
      "Processing Record 29 of Set 9 | itarema\n",
      "Processing Record 30 of Set 9 | sumbe\n",
      "Processing Record 31 of Set 9 | varzea grande\n",
      "Processing Record 32 of Set 9 | south venice\n",
      "Processing Record 33 of Set 9 | san cristobal\n",
      "Processing Record 34 of Set 9 | aldine\n",
      "Processing Record 35 of Set 9 | safaga\n",
      "City not found. Skipping...\n",
      "Processing Record 36 of Set 9 | detmold\n",
      "Processing Record 37 of Set 9 | pringsewu\n",
      "Processing Record 38 of Set 9 | harper\n",
      "Processing Record 39 of Set 9 | rokytne\n",
      "Processing Record 40 of Set 9 | tafalla\n",
      "Processing Record 41 of Set 9 | matay\n",
      "Processing Record 42 of Set 9 | ueckermunde\n",
      "Processing Record 43 of Set 9 | srednekolymsk\n",
      "Processing Record 44 of Set 9 | pacifica\n",
      "Processing Record 45 of Set 9 | colac\n",
      "Processing Record 46 of Set 9 | novikovo\n",
      "Processing Record 47 of Set 9 | minot\n",
      "Processing Record 48 of Set 9 | sarangani\n",
      "Processing Record 49 of Set 9 | gamba\n",
      "Processing Record 1 of Set 10 | mosalsk\n",
      "Processing Record 2 of Set 10 | tieli\n",
      "City not found. Skipping...\n",
      "Processing Record 3 of Set 10 | aleksandrow kujawski\n",
      "Processing Record 4 of Set 10 | hamilton\n",
      "City not found. Skipping...\n",
      "Processing Record 5 of Set 10 | ahipara\n",
      "Processing Record 6 of Set 10 | marzuq\n",
      "Processing Record 7 of Set 10 | urucui\n",
      "City not found. Skipping...\n",
      "Processing Record 8 of Set 10 | yaan\n",
      "Processing Record 9 of Set 10 | kupino\n",
      "Processing Record 10 of Set 10 | springbok\n",
      "Processing Record 11 of Set 10 | cagliliog\n",
      "Processing Record 12 of Set 10 | grindavik\n",
      "Processing Record 13 of Set 10 | nueva helvecia\n",
      "Processing Record 14 of Set 10 | butembo\n",
      "Processing Record 15 of Set 10 | yeniseysk\n",
      "Processing Record 16 of Set 10 | adre\n",
      "Processing Record 17 of Set 10 | qui nhon\n",
      "Processing Record 18 of Set 10 | hobyo\n",
      "Processing Record 19 of Set 10 | perth\n",
      "Processing Record 20 of Set 10 | leningradskiy\n",
      "City not found. Skipping...\n",
      "Processing Record 21 of Set 10 | sungai siput utara\n",
      "Processing Record 22 of Set 10 | ketchikan\n",
      "Processing Record 23 of Set 10 | honningsvag\n",
      "Processing Record 24 of Set 10 | saint-georges\n",
      "Processing Record 25 of Set 10 | aswan\n",
      "City not found. Skipping...\n",
      "Processing Record 26 of Set 10 | grand centre\n",
      "Processing Record 27 of Set 10 | parthenay\n",
      "Processing Record 28 of Set 10 | sorland\n",
      "Processing Record 29 of Set 10 | coroneo\n",
      "Processing Record 30 of Set 10 | charleville\n",
      "Processing Record 31 of Set 10 | erenhot\n",
      "Processing Record 32 of Set 10 | novyy urgal\n",
      "Processing Record 33 of Set 10 | muravlenko\n",
      "City not found. Skipping...\n",
      "Processing Record 34 of Set 10 | malakal\n",
      "Processing Record 35 of Set 10 | pierre\n",
      "Processing Record 36 of Set 10 | comodoro rivadavia\n",
      "Processing Record 37 of Set 10 | dolores\n",
      "Processing Record 38 of Set 10 | bajil\n",
      "Processing Record 39 of Set 10 | tooele\n",
      "Processing Record 40 of Set 10 | ust-maya\n",
      "Processing Record 41 of Set 10 | tigzirt\n",
      "Processing Record 42 of Set 10 | mitsamiouli\n",
      "Processing Record 43 of Set 10 | gueret\n",
      "City not found. Skipping...\n",
      "Processing Record 44 of Set 10 | koson\n",
      "Processing Record 45 of Set 10 | lixourion\n",
      "Processing Record 46 of Set 10 | aksarka\n",
      "Processing Record 47 of Set 10 | kupang\n",
      "Processing Record 48 of Set 10 | wanlaweyn\n",
      "Processing Record 49 of Set 10 | turbo\n",
      "Processing Record 1 of Set 11 | urusha\n",
      "Processing Record 2 of Set 11 | morros\n",
      "Processing Record 3 of Set 11 | rawson\n",
      "Processing Record 4 of Set 11 | saint-pierre\n",
      "Processing Record 5 of Set 11 | udachnyy\n",
      "City not found. Skipping...\n",
      "City not found. Skipping...\n",
      "Processing Record 6 of Set 11 | baoshan\n",
      "Processing Record 7 of Set 11 | waw\n",
      "Processing Record 8 of Set 11 | kayes\n",
      "Processing Record 9 of Set 11 | upington\n",
      "Processing Record 10 of Set 11 | yongan\n",
      "Processing Record 11 of Set 11 | toyooka\n",
      "Processing Record 12 of Set 11 | soe\n",
      "Processing Record 13 of Set 11 | teluk nibung\n",
      "Processing Record 14 of Set 11 | bealanana\n",
      "Processing Record 15 of Set 11 | roald\n",
      "Processing Record 16 of Set 11 | catuday\n",
      "Processing Record 17 of Set 11 | northam\n",
      "Processing Record 18 of Set 11 | charters towers\n",
      "Processing Record 19 of Set 11 | korla\n",
      "Processing Record 20 of Set 11 | virden\n",
      "Processing Record 21 of Set 11 | itupiranga\n",
      "Processing Record 22 of Set 11 | new hope\n",
      "Processing Record 23 of Set 11 | tosya\n",
      "Processing Record 24 of Set 11 | pangai\n",
      "Processing Record 25 of Set 11 | satapuala\n",
      "Processing Record 26 of Set 11 | salair\n",
      "Processing Record 27 of Set 11 | acarau\n",
      "Processing Record 28 of Set 11 | gravdal\n",
      "Processing Record 29 of Set 11 | salina\n",
      "Processing Record 30 of Set 11 | luwero\n",
      "Processing Record 31 of Set 11 | guaraniacu\n",
      "Processing Record 32 of Set 11 | ilhabela\n",
      "Processing Record 33 of Set 11 | dudinka\n",
      "City not found. Skipping...\n",
      "Processing Record 34 of Set 11 | baracoa\n",
      "Processing Record 35 of Set 11 | kudahuvadhoo\n",
      "Processing Record 36 of Set 11 | aljezur\n",
      "Processing Record 37 of Set 11 | winnemucca\n",
      "Processing Record 38 of Set 11 | elat\n",
      "Processing Record 39 of Set 11 | labrea\n",
      "City not found. Skipping...\n",
      "Processing Record 40 of Set 11 | pedernales\n",
      "Processing Record 41 of Set 11 | hoquiam\n",
      "Processing Record 42 of Set 11 | mackay\n",
      "Processing Record 43 of Set 11 | dorgos\n",
      "Processing Record 44 of Set 11 | harlingen\n",
      "City not found. Skipping...\n",
      "Processing Record 45 of Set 11 | banda aceh\n",
      "Processing Record 46 of Set 11 | dahuk\n",
      "City not found. Skipping...\n",
      "City not found. Skipping...\n",
      "Processing Record 47 of Set 11 | salinas\n",
      "Processing Record 48 of Set 11 | komsomolets\n",
      "Processing Record 49 of Set 11 | yumen\n",
      "Processing Record 1 of Set 12 | sinnamary\n",
      "Processing Record 2 of Set 12 | togul\n",
      "City not found. Skipping...\n",
      "City not found. Skipping...\n",
      "City not found. Skipping...\n",
      "Processing Record 3 of Set 12 | probolinggo\n",
      "Processing Record 4 of Set 12 | oranjemund\n",
      "Processing Record 5 of Set 12 | bridlington\n",
      "Processing Record 6 of Set 12 | gambissara\n",
      "Processing Record 7 of Set 12 | puerto princesa\n",
      "Processing Record 8 of Set 12 | lokosovo\n"
     ]
    },
    {
     "name": "stdout",
     "output_type": "stream",
     "text": [
      "Processing Record 9 of Set 12 | denison\n",
      "Processing Record 10 of Set 12 | neryungri\n",
      "Processing Record 11 of Set 12 | valparaiso\n",
      "Processing Record 12 of Set 12 | bousso\n",
      "Processing Record 13 of Set 12 | coari\n",
      "City not found. Skipping...\n",
      "City not found. Skipping...\n",
      "Processing Record 14 of Set 12 | komsomolskiy\n",
      "Processing Record 15 of Set 12 | sao paulo de olivenca\n",
      "Processing Record 16 of Set 12 | copiapo\n",
      "Processing Record 17 of Set 12 | borzya\n",
      "Processing Record 18 of Set 12 | irbeyskoye\n",
      "Processing Record 19 of Set 12 | hrodna\n",
      "Processing Record 20 of Set 12 | khilok\n",
      "Processing Record 21 of Set 12 | ucluelet\n",
      "Processing Record 22 of Set 12 | cocobeach\n",
      "Processing Record 23 of Set 12 | timra\n",
      "City not found. Skipping...\n",
      "Processing Record 24 of Set 12 | vanimo\n",
      "Processing Record 25 of Set 12 | kawambwa\n",
      "Processing Record 26 of Set 12 | folldal\n",
      "Processing Record 27 of Set 12 | peniche\n",
      "Processing Record 28 of Set 12 | coahuayana\n",
      "Processing Record 29 of Set 12 | stuttgart\n",
      "Processing Record 30 of Set 12 | puerto madryn\n",
      "Processing Record 31 of Set 12 | aranda de duero\n",
      "Processing Record 32 of Set 12 | raga\n",
      "Processing Record 33 of Set 12 | comrie\n",
      "Processing Record 34 of Set 12 | bandar\n",
      "Processing Record 35 of Set 12 | nam tha\n",
      "Processing Record 36 of Set 12 | san jose\n",
      "Data Retrieval Complete..\n"
     ]
    }
   ],
   "source": [
    "#URL and Units\n",
    "units = \"imperial\"\n",
    "base_url = f\"http://api.openweathermap.org/data/2.5/weather?appid={weather_api_key}&units={units}&q=\"\n",
    "\n",
    "#Lists\n",
    "city_name = []\n",
    "city_lats = []\n",
    "city_lngs = []\n",
    "max_temp = []\n",
    "city_humid = []\n",
    "city_cloud = []\n",
    "wind_speeds = []\n",
    "countries = []\n",
    "dates = []\n",
    "city_list = []\n",
    "\n",
    "#Counts\n",
    "num_record = 0\n",
    "num_set = 1\n",
    "\n",
    "#Begin \n",
    "print(\"Beginning Data Retrival\")\n",
    "\n",
    "#Loops\n",
    "for city in cities:\n",
    "    try:\n",
    "        response_data = requests.get(base_url + city.replace(\" \",\"&\")).json()\n",
    "        city_name.append(response_data['name'])\n",
    "        city_lats.append(response_data['coord']['lat'])\n",
    "        city_lngs.append(response_data['coord']['lon'])\n",
    "        max_temp.append(response_data['main']['temp_max'])\n",
    "        city_humid.append(response_data['main']['humidity'])\n",
    "        city_cloud.append(response_data['clouds']['all'])\n",
    "        wind_speeds.append(response_data['wind']['speed'])\n",
    "        countries.append(response_data['sys']['country'])\n",
    "        dates.append(response_data['dt'])\n",
    "        if num_record > 48:\n",
    "            num_record = 1\n",
    "            num_set += 1\n",
    "            city_list.append(city)\n",
    "        else:\n",
    "            num_record += 1\n",
    "            city_list.append(city)\n",
    "        print(f\"Processing Record {num_record} of Set {num_set} | {city}\")\n",
    "    except Exception:\n",
    "        print(\"City not found. Skipping...\")\n",
    "#End    \n",
    "print(\"Data Retrieval Complete..\")"
   ]
  },
  {
   "cell_type": "markdown",
   "metadata": {},
   "source": [
    "### Convert Raw Data to DataFrame\n",
    "* Export the city data into a .csv.\n",
    "* Display the DataFrame"
   ]
  },
  {
   "cell_type": "code",
   "execution_count": 5,
   "metadata": {},
   "outputs": [
    {
     "data": {
      "text/html": [
       "<div>\n",
       "<style scoped>\n",
       "    .dataframe tbody tr th:only-of-type {\n",
       "        vertical-align: middle;\n",
       "    }\n",
       "\n",
       "    .dataframe tbody tr th {\n",
       "        vertical-align: top;\n",
       "    }\n",
       "\n",
       "    .dataframe thead th {\n",
       "        text-align: right;\n",
       "    }\n",
       "</style>\n",
       "<table border=\"1\" class=\"dataframe\">\n",
       "  <thead>\n",
       "    <tr style=\"text-align: right;\">\n",
       "      <th></th>\n",
       "      <th>City</th>\n",
       "      <th>Lat</th>\n",
       "      <th>Lng</th>\n",
       "      <th>Max Temp</th>\n",
       "      <th>Humidity</th>\n",
       "      <th>Cloudiness</th>\n",
       "      <th>Wind Speed</th>\n",
       "      <th>Country</th>\n",
       "      <th>Date</th>\n",
       "    </tr>\n",
       "  </thead>\n",
       "  <tbody>\n",
       "    <tr>\n",
       "      <th>0</th>\n",
       "      <td>Ponta</td>\n",
       "      <td>38.7333</td>\n",
       "      <td>-28.2667</td>\n",
       "      <td>62.60</td>\n",
       "      <td>82</td>\n",
       "      <td>75</td>\n",
       "      <td>17.27</td>\n",
       "      <td>PT</td>\n",
       "      <td>1616174435</td>\n",
       "    </tr>\n",
       "    <tr>\n",
       "      <th>1</th>\n",
       "      <td>Bukama</td>\n",
       "      <td>-9.2000</td>\n",
       "      <td>25.8500</td>\n",
       "      <td>75.40</td>\n",
       "      <td>82</td>\n",
       "      <td>85</td>\n",
       "      <td>1.41</td>\n",
       "      <td>CD</td>\n",
       "      <td>1616174436</td>\n",
       "    </tr>\n",
       "    <tr>\n",
       "      <th>2</th>\n",
       "      <td>Sandy City</td>\n",
       "      <td>40.5720</td>\n",
       "      <td>-111.8606</td>\n",
       "      <td>61.00</td>\n",
       "      <td>44</td>\n",
       "      <td>1</td>\n",
       "      <td>23.02</td>\n",
       "      <td>US</td>\n",
       "      <td>1616174287</td>\n",
       "    </tr>\n",
       "    <tr>\n",
       "      <th>3</th>\n",
       "      <td>Vao</td>\n",
       "      <td>-22.6667</td>\n",
       "      <td>167.4833</td>\n",
       "      <td>76.41</td>\n",
       "      <td>77</td>\n",
       "      <td>100</td>\n",
       "      <td>22.24</td>\n",
       "      <td>NC</td>\n",
       "      <td>1616174436</td>\n",
       "    </tr>\n",
       "    <tr>\n",
       "      <th>4</th>\n",
       "      <td>Hilo</td>\n",
       "      <td>19.7297</td>\n",
       "      <td>-155.0900</td>\n",
       "      <td>64.40</td>\n",
       "      <td>88</td>\n",
       "      <td>1</td>\n",
       "      <td>4.74</td>\n",
       "      <td>US</td>\n",
       "      <td>1616174437</td>\n",
       "    </tr>\n",
       "  </tbody>\n",
       "</table>\n",
       "</div>"
      ],
      "text/plain": [
       "         City      Lat       Lng  Max Temp  Humidity  Cloudiness  Wind Speed  \\\n",
       "0       Ponta  38.7333  -28.2667     62.60        82          75       17.27   \n",
       "1      Bukama  -9.2000   25.8500     75.40        82          85        1.41   \n",
       "2  Sandy City  40.5720 -111.8606     61.00        44           1       23.02   \n",
       "3         Vao -22.6667  167.4833     76.41        77         100       22.24   \n",
       "4        Hilo  19.7297 -155.0900     64.40        88           1        4.74   \n",
       "\n",
       "  Country        Date  \n",
       "0      PT  1616174435  \n",
       "1      CD  1616174436  \n",
       "2      US  1616174287  \n",
       "3      NC  1616174436  \n",
       "4      US  1616174437  "
      ]
     },
     "execution_count": 5,
     "metadata": {},
     "output_type": "execute_result"
    }
   ],
   "source": [
    "#Dictionary for DF\n",
    "weatherpy_dictionary = {\n",
    "        \"City\":city_name ,\n",
    "        \"Lat\":city_lats ,\n",
    "        \"Lng\":city_lngs ,\n",
    "        \"Max Temp\":max_temp ,\n",
    "        \"Humidity\":city_humid ,\n",
    "        \"Cloudiness\":city_cloud ,\n",
    "        \"Wind Speed\":wind_speeds ,\n",
    "        \"Country\":countries ,\n",
    "        \"Date\":dates ,\n",
    "}\n",
    "\n",
    "#DF\n",
    "weatherpy_df =pd.DataFrame(weatherpy_dictionary)\n",
    "#Show\n",
    "weatherpy_df.head()"
   ]
  },
  {
   "cell_type": "code",
   "execution_count": 22,
   "metadata": {},
   "outputs": [],
   "source": [
    "#Convert to csv.\n",
    "weatherpy_df.to_csv(\"output_cities_data\", index=False)"
   ]
  },
  {
   "cell_type": "code",
   "execution_count": null,
   "metadata": {},
   "outputs": [],
   "source": [
    "#Falta la tabla con count mean std min 25, 50, 75, max. "
   ]
  },
  {
   "cell_type": "markdown",
   "metadata": {},
   "source": [
    "## Inspect the data and remove the cities where the humidity > 100%.\n",
    "----\n",
    "Skip this step if there are no cities that have humidity > 100%. "
   ]
  },
  {
   "cell_type": "code",
   "execution_count": 7,
   "metadata": {},
   "outputs": [
    {
     "data": {
      "text/html": [
       "<div>\n",
       "<style scoped>\n",
       "    .dataframe tbody tr th:only-of-type {\n",
       "        vertical-align: middle;\n",
       "    }\n",
       "\n",
       "    .dataframe tbody tr th {\n",
       "        vertical-align: top;\n",
       "    }\n",
       "\n",
       "    .dataframe thead th {\n",
       "        text-align: right;\n",
       "    }\n",
       "</style>\n",
       "<table border=\"1\" class=\"dataframe\">\n",
       "  <thead>\n",
       "    <tr style=\"text-align: right;\">\n",
       "      <th></th>\n",
       "      <th>City</th>\n",
       "      <th>Lat</th>\n",
       "      <th>Lng</th>\n",
       "      <th>Max Temp</th>\n",
       "      <th>Humidity</th>\n",
       "      <th>Cloudiness</th>\n",
       "      <th>Wind Speed</th>\n",
       "      <th>Country</th>\n",
       "      <th>Date</th>\n",
       "    </tr>\n",
       "  </thead>\n",
       "  <tbody>\n",
       "  </tbody>\n",
       "</table>\n",
       "</div>"
      ],
      "text/plain": [
       "Empty DataFrame\n",
       "Columns: [City, Lat, Lng, Max Temp, Humidity, Cloudiness, Wind Speed, Country, Date]\n",
       "Index: []"
      ]
     },
     "execution_count": 7,
     "metadata": {},
     "output_type": "execute_result"
    }
   ],
   "source": [
    "#  Get the indices of cities that have humidity over 100%.\n",
    "weatherpy_df_humidity = weatherpy_df[weatherpy_df['Humidity']>100]\n",
    "weatherpy_df_humidity\n"
   ]
  },
  {
   "cell_type": "code",
   "execution_count": 8,
   "metadata": {},
   "outputs": [
    {
     "name": "stdout",
     "output_type": "stream",
     "text": [
      "There are no cities that match the criteria of >100% humidity, so we skip this step.\n"
     ]
    }
   ],
   "source": [
    "print(f\"There are no cities that match the criteria of >100% humidity, so we skip this step.\")\n"
   ]
  },
  {
   "cell_type": "code",
   "execution_count": null,
   "metadata": {},
   "outputs": [],
   "source": [
    "# Make a new DataFrame equal to the city data to drop all humidity outliers by index.\n",
    "# Passing \"inplace=False\" will make a copy of the city_data DataFrame, which we call \"clean_city_data\".\n"
   ]
  },
  {
   "cell_type": "markdown",
   "metadata": {},
   "source": [
    "## Plotting the Data\n",
    "* Use proper labeling of the plots using plot titles (including date of analysis) and axes labels.\n",
    "* Save the plotted figures as .pngs."
   ]
  },
  {
   "cell_type": "markdown",
   "metadata": {},
   "source": [
    "## Latitude vs. Temperature Plot"
   ]
  },
  {
   "cell_type": "code",
   "execution_count": 26,
   "metadata": {
    "scrolled": true
   },
   "outputs": [
    {
     "data": {
      "image/png": "[encoded data removed]",
      "text/plain": [
       "<Figure size 432x288 with 1 Axes>"
      ]
     },
     "metadata": {
      "needs_background": "light"
     },
     "output_type": "display_data"
    },
    {
     "data": {
      "text/plain": [
       "<Figure size 432x288 with 0 Axes>"
      ]
     },
     "metadata": {},
     "output_type": "display_data"
    },
    {
     "name": "stdout",
     "output_type": "stream",
     "text": [
      "This table is showing the correlation between latitude and maximum temperature, and we could determine that as latitude increases the maximum temperatures tend to decrease and viceversa.\n"
     ]
    }
   ],
   "source": [
    "#Define X and Y values. \n",
    "latitude = weatherpy_df['Lat']\n",
    "temperature = weatherpy_df['Max Temp']\n",
    "\n",
    "plt.scatter(latitude, temperature, color=\"blue\", edgecolors=\"black\")\n",
    "plt.xlabel(\"Latitude\")\n",
    "plt.ylabel(\"Max Temperature (F)\")\n",
    "plt.title(\"City Latitude vs. Max Temperature 04/01/20\")\n",
    "plt.show()\n",
    "\n",
    "#Save as image\n",
    "plt.savefig(\"Images/lat_temp_plot.png\")\n",
    "plt.show()\n",
    "\n",
    "print(\"This table is showing the correlation between latitude and maximum temperature, and we could determine that as latitude increases the maximum temperatures tend to decrease and viceversa.\")"
   ]
  },
  {
   "cell_type": "markdown",
   "metadata": {},
   "source": [
    "## Latitude vs. Humidity Plot"
   ]
  },
  {
   "cell_type": "code",
   "execution_count": 27,
   "metadata": {},
   "outputs": [
    {
     "data": {
      "image/png": "[encoded data removed]",
      "text/plain": [
       "<Figure size 432x288 with 1 Axes>"
      ]
     },
     "metadata": {
      "needs_background": "light"
     },
     "output_type": "display_data"
    },
    {
     "data": {
      "text/plain": [
       "<Figure size 432x288 with 0 Axes>"
      ]
     },
     "metadata": {},
     "output_type": "display_data"
    },
    {
     "name": "stdout",
     "output_type": "stream",
     "text": [
      "This plot shows us the correlation between latitude and humidity. However there is no direct relationship between this two, as we can see there is no specific pattern.\n"
     ]
    }
   ],
   "source": [
    "#Define X and Y values. \n",
    "latitude = weatherpy_df['Lat']\n",
    "humidity = weatherpy_df['Humidity']\n",
    "\n",
    "plt.scatter(latitude, humidity, color=\"blue\", edgecolors=\"black\")\n",
    "plt.xlabel(\"Latitude\")\n",
    "plt.ylabel(\"Humidity (%)\")\n",
    "plt.title(\"City Latitude vs. Humidity 04/01/20\")\n",
    "plt.show()\n",
    "\n",
    "#Save as image\n",
    "plt.savefig(\"Images/lat_humidity_plot.png\")\n",
    "plt.show()\n",
    "\n",
    "print(\"This plot shows us the correlation between latitude and humidity. However there is no direct relationship between this two, as we can see there is no specific pattern.\")"
   ]
  },
  {
   "cell_type": "markdown",
   "metadata": {},
   "source": [
    "## Latitude vs. Cloudiness Plot"
   ]
  },
  {
   "cell_type": "code",
   "execution_count": 29,
   "metadata": {},
   "outputs": [
    {
     "data": {
      "image/png": "[encoded data removed]",
      "text/plain": [
       "<Figure size 432x288 with 1 Axes>"
      ]
     },
     "metadata": {
      "needs_background": "light"
     },
     "output_type": "display_data"
    },
    {
     "data": {
      "text/plain": [
       "<Figure size 432x288 with 0 Axes>"
      ]
     },
     "metadata": {},
     "output_type": "display_data"
    },
    {
     "name": "stdout",
     "output_type": "stream",
     "text": [
      "This plot shows us the correlation between latituda and cloudiness by %. We can observe some straighter more repetitive patterns in some specific percentages of cloudiness like 0%, 20%, 40%, 75-78% and 100%.\n"
     ]
    }
   ],
   "source": [
    "#Define X and Y values. \n",
    "latitude = weatherpy_df['Lat']\n",
    "cloudiness = weatherpy_df['Cloudiness']\n",
    "\n",
    "plt.scatter(latitude, cloudiness, color=\"blue\", edgecolors=\"black\")\n",
    "plt.xlabel(\"Latitude\")\n",
    "plt.ylabel(\"Cloudiness (%)\")\n",
    "plt.title(\"City Latitude vs. Cloudiness 04/01/20\")\n",
    "plt.show()\n",
    "\n",
    "#Save as image\n",
    "plt.savefig(\"Images/lat_cloudiness_plot.png\")\n",
    "plt.show()\n",
    "\n",
    "print(\"This plot shows us the correlation between latituda and cloudiness by %. We can observe some straighter more repetitive patterns in some specific percentages of cloudiness like 0%, 20%, 40%, 75-78% and 100%.\")"
   ]
  },
  {
   "cell_type": "markdown",
   "metadata": {},
   "source": [
    "## Latitude vs. Wind Speed Plot"
   ]
  },
  {
   "cell_type": "code",
   "execution_count": 30,
   "metadata": {},
   "outputs": [
    {
     "data": {
      "image/png": "[encoded data removed]",
      "text/plain": [
       "<Figure size 432x288 with 1 Axes>"
      ]
     },
     "metadata": {
      "needs_background": "light"
     },
     "output_type": "display_data"
    },
    {
     "data": {
      "text/plain": [
       "<Figure size 432x288 with 0 Axes>"
      ]
     },
     "metadata": {},
     "output_type": "display_data"
    },
    {
     "name": "stdout",
     "output_type": "stream",
     "text": [
      "This plot shows us the correlation between latitude and wind speed by miles per hour. We can see in the graph that there is no remarkable relationship, but we can deduct that the highest windspeeds come from the most elevated latitude.\n"
     ]
    }
   ],
   "source": [
    "#Define X and Y values. \n",
    "latitude = weatherpy_df['Lat']\n",
    "wspeed = weatherpy_df['Wind Speed']\n",
    "\n",
    "plt.scatter(latitude, wspeed, color=\"blue\", edgecolors=\"black\")\n",
    "plt.xlabel(\"Latitude\")\n",
    "plt.ylabel(\"Wind Speed (mph)\")\n",
    "plt.title(\"City Latitude vs. Wind Speed 04/01/20\")\n",
    "plt.show()\n",
    "\n",
    "#Save as image\n",
    "plt.savefig(\"Images/lat_wspeed_plot.png\")\n",
    "plt.show()\n",
    "\n",
    "print(\"This plot shows us the correlation between latitude and wind speed by miles per hour. We can see in the graph that there is no remarkable relationship, but we can deduct that the highest windspeeds come from the most elevated latitude.\")"
   ]
  },
  {
   "cell_type": "markdown",
   "metadata": {},
   "source": [
    "## Linear Regression"
   ]
  },
  {
   "cell_type": "code",
   "execution_count": 13,
   "metadata": {},
   "outputs": [
    {
     "data": {
      "text/html": [
       "<div>\n",
       "<style scoped>\n",
       "    .dataframe tbody tr th:only-of-type {\n",
       "        vertical-align: middle;\n",
       "    }\n",
       "\n",
       "    .dataframe tbody tr th {\n",
       "        vertical-align: top;\n",
       "    }\n",
       "\n",
       "    .dataframe thead th {\n",
       "        text-align: right;\n",
       "    }\n",
       "</style>\n",
       "<table border=\"1\" class=\"dataframe\">\n",
       "  <thead>\n",
       "    <tr style=\"text-align: right;\">\n",
       "      <th></th>\n",
       "      <th>City</th>\n",
       "      <th>Lat</th>\n",
       "      <th>Lng</th>\n",
       "      <th>Max Temp</th>\n",
       "      <th>Humidity</th>\n",
       "      <th>Cloudiness</th>\n",
       "      <th>Wind Speed</th>\n",
       "      <th>Country</th>\n",
       "      <th>Date</th>\n",
       "    </tr>\n",
       "  </thead>\n",
       "  <tbody>\n",
       "    <tr>\n",
       "      <th>1</th>\n",
       "      <td>Bukama</td>\n",
       "      <td>-9.2000</td>\n",
       "      <td>25.8500</td>\n",
       "      <td>75.40</td>\n",
       "      <td>82</td>\n",
       "      <td>85</td>\n",
       "      <td>1.41</td>\n",
       "      <td>CD</td>\n",
       "      <td>1616174436</td>\n",
       "    </tr>\n",
       "    <tr>\n",
       "      <th>3</th>\n",
       "      <td>Vao</td>\n",
       "      <td>-22.6667</td>\n",
       "      <td>167.4833</td>\n",
       "      <td>76.41</td>\n",
       "      <td>77</td>\n",
       "      <td>100</td>\n",
       "      <td>22.24</td>\n",
       "      <td>NC</td>\n",
       "      <td>1616174436</td>\n",
       "    </tr>\n",
       "    <tr>\n",
       "      <th>5</th>\n",
       "      <td>Rikitea</td>\n",
       "      <td>-23.1203</td>\n",
       "      <td>-134.9692</td>\n",
       "      <td>80.33</td>\n",
       "      <td>76</td>\n",
       "      <td>100</td>\n",
       "      <td>12.71</td>\n",
       "      <td>PF</td>\n",
       "      <td>1616174419</td>\n",
       "    </tr>\n",
       "    <tr>\n",
       "      <th>6</th>\n",
       "      <td>Ushuaia</td>\n",
       "      <td>-54.8000</td>\n",
       "      <td>-68.3000</td>\n",
       "      <td>51.80</td>\n",
       "      <td>62</td>\n",
       "      <td>75</td>\n",
       "      <td>11.50</td>\n",
       "      <td>AR</td>\n",
       "      <td>1616174364</td>\n",
       "    </tr>\n",
       "    <tr>\n",
       "      <th>9</th>\n",
       "      <td>Tautira</td>\n",
       "      <td>-17.7333</td>\n",
       "      <td>-149.1500</td>\n",
       "      <td>80.60</td>\n",
       "      <td>74</td>\n",
       "      <td>75</td>\n",
       "      <td>3.44</td>\n",
       "      <td>PF</td>\n",
       "      <td>1616174439</td>\n",
       "    </tr>\n",
       "    <tr>\n",
       "      <th>...</th>\n",
       "      <td>...</td>\n",
       "      <td>...</td>\n",
       "      <td>...</td>\n",
       "      <td>...</td>\n",
       "      <td>...</td>\n",
       "      <td>...</td>\n",
       "      <td>...</td>\n",
       "      <td>...</td>\n",
       "      <td>...</td>\n",
       "    </tr>\n",
       "    <tr>\n",
       "      <th>549</th>\n",
       "      <td>Valparaíso</td>\n",
       "      <td>-33.0393</td>\n",
       "      <td>-71.6273</td>\n",
       "      <td>66.20</td>\n",
       "      <td>59</td>\n",
       "      <td>40</td>\n",
       "      <td>11.50</td>\n",
       "      <td>CL</td>\n",
       "      <td>1616174524</td>\n",
       "    </tr>\n",
       "    <tr>\n",
       "      <th>551</th>\n",
       "      <td>Coari</td>\n",
       "      <td>-4.0850</td>\n",
       "      <td>-63.1414</td>\n",
       "      <td>88.11</td>\n",
       "      <td>56</td>\n",
       "      <td>90</td>\n",
       "      <td>2.55</td>\n",
       "      <td>BR</td>\n",
       "      <td>1616174736</td>\n",
       "    </tr>\n",
       "    <tr>\n",
       "      <th>554</th>\n",
       "      <td>Copiapó</td>\n",
       "      <td>-27.3667</td>\n",
       "      <td>-70.3333</td>\n",
       "      <td>69.80</td>\n",
       "      <td>43</td>\n",
       "      <td>0</td>\n",
       "      <td>12.66</td>\n",
       "      <td>CL</td>\n",
       "      <td>1616174738</td>\n",
       "    </tr>\n",
       "    <tr>\n",
       "      <th>562</th>\n",
       "      <td>Vanimo</td>\n",
       "      <td>-2.6741</td>\n",
       "      <td>141.3028</td>\n",
       "      <td>77.72</td>\n",
       "      <td>84</td>\n",
       "      <td>56</td>\n",
       "      <td>3.06</td>\n",
       "      <td>PG</td>\n",
       "      <td>1616174742</td>\n",
       "    </tr>\n",
       "    <tr>\n",
       "      <th>563</th>\n",
       "      <td>Kawambwa</td>\n",
       "      <td>-9.7915</td>\n",
       "      <td>29.0791</td>\n",
       "      <td>66.88</td>\n",
       "      <td>90</td>\n",
       "      <td>93</td>\n",
       "      <td>2.33</td>\n",
       "      <td>ZM</td>\n",
       "      <td>1616174743</td>\n",
       "    </tr>\n",
       "  </tbody>\n",
       "</table>\n",
       "<p>163 rows × 9 columns</p>\n",
       "</div>"
      ],
      "text/plain": [
       "           City      Lat       Lng  Max Temp  Humidity  Cloudiness  \\\n",
       "1        Bukama  -9.2000   25.8500     75.40        82          85   \n",
       "3           Vao -22.6667  167.4833     76.41        77         100   \n",
       "5       Rikitea -23.1203 -134.9692     80.33        76         100   \n",
       "6       Ushuaia -54.8000  -68.3000     51.80        62          75   \n",
       "9       Tautira -17.7333 -149.1500     80.60        74          75   \n",
       "..          ...      ...       ...       ...       ...         ...   \n",
       "549  Valparaíso -33.0393  -71.6273     66.20        59          40   \n",
       "551       Coari  -4.0850  -63.1414     88.11        56          90   \n",
       "554     Copiapó -27.3667  -70.3333     69.80        43           0   \n",
       "562      Vanimo  -2.6741  141.3028     77.72        84          56   \n",
       "563    Kawambwa  -9.7915   29.0791     66.88        90          93   \n",
       "\n",
       "     Wind Speed Country        Date  \n",
       "1          1.41      CD  1616174436  \n",
       "3         22.24      NC  1616174436  \n",
       "5         12.71      PF  1616174419  \n",
       "6         11.50      AR  1616174364  \n",
       "9          3.44      PF  1616174439  \n",
       "..          ...     ...         ...  \n",
       "549       11.50      CL  1616174524  \n",
       "551        2.55      BR  1616174736  \n",
       "554       12.66      CL  1616174738  \n",
       "562        3.06      PG  1616174742  \n",
       "563        2.33      ZM  1616174743  \n",
       "\n",
       "[163 rows x 9 columns]"
      ]
     },
     "execution_count": 13,
     "metadata": {},
     "output_type": "execute_result"
    }
   ],
   "source": [
    "#DF for Northern and Southern Hemishphere\n",
    "\n",
    "#North\n",
    "northernh_df = weatherpy_df[weatherpy_df[\"Lat\"]>0]\n",
    "northernh_df\n",
    "\n",
    "#South\n",
    "southernh_df = weatherpy_df[weatherpy_df[\"Lat\"]<0]\n",
    "southernh_df"
   ]
  },
  {
   "cell_type": "markdown",
   "metadata": {},
   "source": [
    "####  Northern Hemisphere - Max Temp vs. Latitude Linear Regression"
   ]
  },
  {
   "cell_type": "code",
   "execution_count": 14,
   "metadata": {},
   "outputs": [
    {
     "name": "stdout",
     "output_type": "stream",
     "text": [
      "R-squared:0.7507502164502585\n"
     ]
    },
    {
     "data": {
      "image/png": "[encoded data removed]",
      "text/plain": [
       "<Figure size 432x288 with 1 Axes>"
      ]
     },
     "metadata": {
      "needs_background": "light"
     },
     "output_type": "display_data"
    },
    {
     "data": {
      "text/plain": [
       "<Figure size 432x288 with 0 Axes>"
      ]
     },
     "metadata": {},
     "output_type": "display_data"
    }
   ],
   "source": [
    "#State axis. Perform linear regression temp vs latitude.\n",
    "n_latitude = northernh_df[\"Lat\"]\n",
    "n_temperature = northernh_df[\"Max Temp\"]\n",
    "(slope, y_intercept, rvalue, pvalue, stderr) = linregress(n_latitude, n_temperature)\n",
    "\n",
    "#Regression values\n",
    "reg_value = n_latitude * slope + y_intercept\n",
    "\n",
    "#Line equation string.\n",
    "linear_label = f\"{round(slope, 2)}x + {round(y_intercept, 2)}\"\n",
    "linear_label\n",
    "\n",
    "#Plot.\n",
    "plt.scatter(n_latitude, n_temperature, color=\"blue\")\n",
    "plt.xlabel(\"Latitude\")\n",
    "plt.ylabel(\"Max Temp\")\n",
    "plt.title(\"Northern Hempisphere, Max Temp vs Latitude.\")\n",
    "plt.grid()\n",
    "\n",
    "plt.plot(n_latitude, reg_value, \"r-\")\n",
    "plt.annotate(linear_label,(10,20), fontsize=15, color=\"red\")\n",
    "\n",
    "print(\"R-squared:\" + str(rvalue*rvalue))\n",
    "plt.show()\n",
    "\n",
    "plt.savefig(\"Images/maxtemp_lat_regression_plot_north.png\")"
   ]
  },
  {
   "cell_type": "markdown",
   "metadata": {},
   "source": [
    "####  Southern Hemisphere - Max Temp vs. Latitude Linear Regression"
   ]
  },
  {
   "cell_type": "code",
   "execution_count": 15,
   "metadata": {},
   "outputs": [
    {
     "name": "stdout",
     "output_type": "stream",
     "text": [
      "R-squared:0.4837573853316776\n"
     ]
    },
    {
     "data": {
      "image/png": "[encoded data removed]",
      "text/plain": [
       "<Figure size 432x288 with 1 Axes>"
      ]
     },
     "metadata": {
      "needs_background": "light"
     },
     "output_type": "display_data"
    },
    {
     "data": {
      "text/plain": [
       "<Figure size 432x288 with 0 Axes>"
      ]
     },
     "metadata": {},
     "output_type": "display_data"
    }
   ],
   "source": [
    "#State axis. Perform linear regression temp vs latitude.\n",
    "s_latitude = southernh_df[\"Lat\"]\n",
    "s_temperature = southernh_df[\"Max Temp\"]\n",
    "(slope, y_intercept, rvalue, pvalue, stderr) = linregress(s_latitude, s_temperature)\n",
    "\n",
    "#Regression values\n",
    "reg_value = s_latitude * slope + y_intercept\n",
    "\n",
    "#Line equation string.\n",
    "linear_label = f\"{round(slope, 2)}x + {round(y_intercept, 2)}\"\n",
    "linear_label\n",
    "\n",
    "#Plot.\n",
    "plt.scatter(s_latitude, s_temperature, color=\"blue\")\n",
    "plt.xlabel(\"Latitude\")\n",
    "plt.ylabel(\"Max Temp\")\n",
    "plt.title(\"Southern Hempisphere, Max Temp vs Latitude.\")\n",
    "plt.grid()\n",
    "\n",
    "plt.plot(s_latitude, reg_value, \"r-\")\n",
    "plt.annotate(linear_label,(10,20), fontsize=15, color=\"red\")\n",
    "\n",
    "print(\"R-squared:\" + str(rvalue*rvalue))\n",
    "plt.show()\n",
    "\n",
    "plt.savefig(\"Images/maxtemp_lat_regression_plot_south.png\")"
   ]
  },
  {
   "cell_type": "code",
   "execution_count": 31,
   "metadata": {},
   "outputs": [
    {
     "name": "stdout",
     "output_type": "stream",
     "text": [
      "Max Temp vs Latitude Regression Analysis:\n",
      "When comparing the two plots shown above we can see that there is an inverse correlation between these two variables in the southern and northern hempispheres.\n",
      "In the Northern Hemisphere we can see that as latitude increases the maximum temperature decreases, while in the Southern Hempishere as latitude decreases so does the maximum temperature.\n"
     ]
    }
   ],
   "source": [
    "print(\"Max Temp vs Latitude Regression Analysis:\")\n",
    "print(\"When comparing the two plots shown above we can see that there is an inverse correlation between these two variables in the southern and northern hempispheres.\")\n",
    "print(\"In the Northern Hemisphere we can see that as latitude increases the maximum temperature decreases, while in the Southern Hempishere as latitude decreases so does the maximum temperature.\")"
   ]
  },
  {
   "cell_type": "markdown",
   "metadata": {},
   "source": [
    "####  Northern Hemisphere - Humidity (%) vs. Latitude Linear Regression"
   ]
  },
  {
   "cell_type": "code",
   "execution_count": 16,
   "metadata": {},
   "outputs": [
    {
     "name": "stdout",
     "output_type": "stream",
     "text": [
      "R-squared:0.0855837370500328\n"
     ]
    },
    {
     "data": {
      "image/png": "[encoded data removed]",
      "text/plain": [
       "<Figure size 432x288 with 1 Axes>"
      ]
     },
     "metadata": {
      "needs_background": "light"
     },
     "output_type": "display_data"
    },
    {
     "data": {
      "text/plain": [
       "<Figure size 432x288 with 0 Axes>"
      ]
     },
     "metadata": {},
     "output_type": "display_data"
    }
   ],
   "source": [
    "#State axis. Perform linear regression temp vs latitude.\n",
    "n_latitude = northernh_df[\"Lat\"]\n",
    "n_humidity = northernh_df[\"Humidity\"]\n",
    "(slope, y_intercept, rvalue, pvalue, stderr) = linregress(n_latitude, n_humidity)\n",
    "\n",
    "#Regression values\n",
    "reg_value = n_latitude * slope + y_intercept\n",
    "\n",
    "#Line equation string.\n",
    "linear_label = f\"{round(slope, 2)}x + {round(y_intercept, 2)}\"\n",
    "linear_label\n",
    "\n",
    "#Plot.\n",
    "plt.scatter(n_latitude, n_humidity, color=\"blue\")\n",
    "plt.xlabel(\"Latitude\")\n",
    "plt.ylabel(\"Humidity (%)\")\n",
    "plt.title(\"Northern Hempisphere, Humidity vs Latitude.\")\n",
    "plt.grid()\n",
    "\n",
    "plt.plot(n_latitude, reg_value, \"r-\")\n",
    "plt.annotate(linear_label,(10,20), fontsize=15, color=\"red\")\n",
    "\n",
    "print(\"R-squared:\" + str(rvalue*rvalue))\n",
    "plt.show()\n",
    "\n",
    "plt.savefig(\"Images/humidity_lat_regression_plot_north.png\")"
   ]
  },
  {
   "cell_type": "markdown",
   "metadata": {},
   "source": [
    "####  Southern Hemisphere - Humidity (%) vs. Latitude Linear Regression"
   ]
  },
  {
   "cell_type": "code",
   "execution_count": 17,
   "metadata": {},
   "outputs": [
    {
     "name": "stdout",
     "output_type": "stream",
     "text": [
      "R-squared:0.03807621743232178\n"
     ]
    },
    {
     "data": {
      "image/png": "[encoded data removed]",
      "text/plain": [
       "<Figure size 432x288 with 1 Axes>"
      ]
     },
     "metadata": {
      "needs_background": "light"
     },
     "output_type": "display_data"
    },
    {
     "data": {
      "text/plain": [
       "<Figure size 432x288 with 0 Axes>"
      ]
     },
     "metadata": {},
     "output_type": "display_data"
    }
   ],
   "source": [
    "#State axis. Perform linear regression temp vs latitude.\n",
    "s_latitude = southernh_df[\"Lat\"]\n",
    "s_humidity = southernh_df[\"Humidity\"]\n",
    "(slope, y_intercept, rvalue, pvalue, stderr) = linregress(s_latitude, s_humidity)\n",
    "\n",
    "#Regression values\n",
    "reg_value = s_latitude * slope + y_intercept\n",
    "\n",
    "#Line equation string.\n",
    "linear_label = f\"{round(slope, 2)}x + {round(y_intercept, 2)}\"\n",
    "linear_label\n",
    "\n",
    "#Plot.\n",
    "plt.scatter(s_latitude, s_humidity, color=\"blue\")\n",
    "plt.xlabel(\"Latitude\")\n",
    "plt.ylabel(\"Humidity\")\n",
    "plt.title(\"Southern Hempisphere, Humidity vs Latitude.\")\n",
    "plt.grid()\n",
    "\n",
    "plt.plot(s_latitude, reg_value, \"r-\")\n",
    "plt.annotate(linear_label,(10,20), fontsize=15, color=\"red\")\n",
    "\n",
    "print(\"R-squared:\" + str(rvalue*rvalue))\n",
    "plt.show()\n",
    "\n",
    "plt.savefig(\"Images/humidity_lat_regression_plot_south.png\")"
   ]
  },
  {
   "cell_type": "code",
   "execution_count": 32,
   "metadata": {},
   "outputs": [
    {
     "name": "stdout",
     "output_type": "stream",
     "text": [
      "Humidity (%) vs. Latitude Linear Regression Analysis\n",
      "As we can see in the plots shown above we could deduct from the regression lines that humidity and latitude have a similar increasement pattern in both hemispheres. In average as latitude increases so does humidity.\n"
     ]
    }
   ],
   "source": [
    "print(\"Humidity (%) vs. Latitude Linear Regression Analysis\")\n",
    "print(\"As we can see in the plots shown above we could deduct from the regression lines that humidity and latitude have a similar increasement pattern in both hemispheres. In average as latitude increases so does humidity.\")"
   ]
  },
  {
   "cell_type": "markdown",
   "metadata": {},
   "source": [
    "####  Northern Hemisphere - Cloudiness (%) vs. Latitude Linear Regression"
   ]
  },
  {
   "cell_type": "code",
   "execution_count": 18,
   "metadata": {},
   "outputs": [
    {
     "name": "stdout",
     "output_type": "stream",
     "text": [
      "R-squared:0.03137871036845788\n"
     ]
    },
    {
     "data": {
      "image/png": "[encoded data removed]",
      "text/plain": [
       "<Figure size 432x288 with 1 Axes>"
      ]
     },
     "metadata": {
      "needs_background": "light"
     },
     "output_type": "display_data"
    },
    {
     "data": {
      "text/plain": [
       "<Figure size 432x288 with 0 Axes>"
      ]
     },
     "metadata": {},
     "output_type": "display_data"
    }
   ],
   "source": [
    "#State axis. Perform linear regression temp vs latitude.\n",
    "n_latitude = northernh_df[\"Lat\"]\n",
    "n_cloudiness = northernh_df[\"Cloudiness\"]\n",
    "(slope, y_intercept, rvalue, pvalue, stderr) = linregress(n_latitude, n_cloudiness)\n",
    "\n",
    "#Regression values\n",
    "reg_value = n_latitude * slope + y_intercept\n",
    "\n",
    "#Line equation string.\n",
    "linear_label = f\"{round(slope, 2)}x + {round(y_intercept, 2)}\"\n",
    "linear_label\n",
    "\n",
    "#Plot.\n",
    "plt.scatter(n_latitude, n_humidity, color=\"blue\")\n",
    "plt.xlabel(\"Latitude\")\n",
    "plt.ylabel(\"Cloudiness (%)\")\n",
    "plt.title(\"Northern Hempisphere, Cloudiness vs Latitude.\")\n",
    "plt.grid()\n",
    "\n",
    "plt.plot(n_latitude, reg_value, \"r-\")\n",
    "plt.annotate(linear_label,(10,20), fontsize=15, color=\"red\")\n",
    "\n",
    "print(\"R-squared:\" + str(rvalue*rvalue))\n",
    "plt.show()\n",
    "\n",
    "plt.savefig(\"Images/cloudiness_lat_regression_plot_north.png\")"
   ]
  },
  {
   "cell_type": "markdown",
   "metadata": {},
   "source": [
    "####  Southern Hemisphere - Cloudiness (%) vs. Latitude Linear Regression"
   ]
  },
  {
   "cell_type": "code",
   "execution_count": 19,
   "metadata": {},
   "outputs": [
    {
     "name": "stdout",
     "output_type": "stream",
     "text": [
      "R-squared:0.11168631777390527\n"
     ]
    },
    {
     "data": {
      "image/png": "[encoded data removed]",
      "text/plain": [
       "<Figure size 432x288 with 1 Axes>"
      ]
     },
     "metadata": {
      "needs_background": "light"
     },
     "output_type": "display_data"
    },
    {
     "data": {
      "text/plain": [
       "<Figure size 432x288 with 0 Axes>"
      ]
     },
     "metadata": {},
     "output_type": "display_data"
    }
   ],
   "source": [
    "#State axis. Perform linear regression temp vs latitude.\n",
    "s_latitude = southernh_df[\"Lat\"]\n",
    "s_cloudiness = southernh_df[\"Cloudiness\"]\n",
    "(slope, y_intercept, rvalue, pvalue, stderr) = linregress(s_latitude, s_cloudiness)\n",
    "\n",
    "#Regression values\n",
    "reg_value = s_latitude * slope + y_intercept\n",
    "\n",
    "#Line equation string.\n",
    "linear_label = f\"{round(slope, 2)}x + {round(y_intercept, 2)}\"\n",
    "linear_label\n",
    "\n",
    "#Plot.\n",
    "plt.scatter(s_latitude, s_cloudiness, color=\"blue\")\n",
    "plt.xlabel(\"Latitude\")\n",
    "plt.ylabel(\"Cloudiness\")\n",
    "plt.title(\"Southern Hempisphere, Cloudiness vs Latitude.\")\n",
    "plt.grid()\n",
    "\n",
    "plt.plot(s_latitude, reg_value, \"r-\")\n",
    "plt.annotate(linear_label,(10,20), fontsize=15, color=\"red\")\n",
    "\n",
    "print(\"R-squared:\" + str(rvalue*rvalue))\n",
    "plt.show()\n",
    "\n",
    "plt.savefig(\"Images/cloudiness_lat_regression_plot_south.png\")"
   ]
  },
  {
   "cell_type": "code",
   "execution_count": 33,
   "metadata": {},
   "outputs": [
    {
     "name": "stdout",
     "output_type": "stream",
     "text": [
      "Cloudiness (%) vs. Latitude Linear Regression Analysis\n",
      "As we can see in the plots shown above the linear regression lines show a similar increasement pattern, as latitude increases so does cloudiness.\n",
      "However there are some other factors we could imply, one is that the line is more inclined in the Southern Hempishere, and another one is that the plot from the Northern Hemisphere has way more presence on the top side of cloudiness than the Southern.\n"
     ]
    }
   ],
   "source": [
    "print(\"Cloudiness (%) vs. Latitude Linear Regression Analysis\")\n",
    "print(\"As we can see in the plots shown above the linear regression lines show a similar increasement pattern, as latitude increases so does cloudiness.\")\n",
    "print (\"However there are some other factors we could imply, one is that the line is more inclined in the Southern Hempishere, and another one is that the plot from the Northern Hemisphere has way more presence on the top side of cloudiness than the Southern.\")"
   ]
  },
  {
   "cell_type": "markdown",
   "metadata": {},
   "source": [
    "####  Northern Hemisphere - Wind Speed (mph) vs. Latitude Linear Regression"
   ]
  },
  {
   "cell_type": "code",
   "execution_count": 20,
   "metadata": {},
   "outputs": [
    {
     "name": "stdout",
     "output_type": "stream",
     "text": [
      "R-squared:0.01943589328341656\n"
     ]
    },
    {
     "data": {
      "image/png": "[encoded data removed]",
      "text/plain": [
       "<Figure size 432x288 with 1 Axes>"
      ]
     },
     "metadata": {
      "needs_background": "light"
     },
     "output_type": "display_data"
    },
    {
     "data": {
      "text/plain": [
       "<Figure size 432x288 with 0 Axes>"
      ]
     },
     "metadata": {},
     "output_type": "display_data"
    }
   ],
   "source": [
    "#State axis. Perform linear regression temp vs latitude.\n",
    "n_latitude = northernh_df[\"Lat\"]\n",
    "n_wspeed = northernh_df[\"Wind Speed\"]\n",
    "(slope, y_intercept, rvalue, pvalue, stderr) = linregress(n_latitude, n_wspeed)\n",
    "\n",
    "#Regression values\n",
    "reg_value = n_latitude * slope + y_intercept\n",
    "\n",
    "#Line equation string.\n",
    "linear_label = f\"{round(slope, 2)}x + {round(y_intercept, 2)}\"\n",
    "linear_label\n",
    "\n",
    "#Plot.\n",
    "plt.scatter(n_latitude, n_humidity, color=\"blue\")\n",
    "plt.xlabel(\"Latitude\")\n",
    "plt.ylabel(\"Wind Speed (mph)\")\n",
    "plt.title(\"Northern Hempisphere, Wind Speed vs Latitude.\")\n",
    "plt.grid()\n",
    "\n",
    "plt.plot(n_latitude, reg_value, \"r-\")\n",
    "plt.annotate(linear_label,(10,20), fontsize=15, color=\"red\")\n",
    "\n",
    "print(\"R-squared:\" + str(rvalue*rvalue))\n",
    "plt.show()\n",
    "\n",
    "plt.savefig(\"Images/wspeed_lat_regression_plot_north.png\")"
   ]
  },
  {
   "cell_type": "markdown",
   "metadata": {},
   "source": [
    "####  Southern Hemisphere - Wind Speed (mph) vs. Latitude Linear Regression"
   ]
  },
  {
   "cell_type": "code",
   "execution_count": 21,
   "metadata": {},
   "outputs": [
    {
     "name": "stdout",
     "output_type": "stream",
     "text": [
      "R-squared:0.062297910862769916\n"
     ]
    },
    {
     "data": {
      "image/png": "[encoded data removed]",
      "text/plain": [
       "<Figure size 432x288 with 1 Axes>"
      ]
     },
     "metadata": {
      "needs_background": "light"
     },
     "output_type": "display_data"
    },
    {
     "data": {
      "text/plain": [
       "<Figure size 432x288 with 0 Axes>"
      ]
     },
     "metadata": {},
     "output_type": "display_data"
    }
   ],
   "source": [
    "#State axis. Perform linear regression temp vs latitude.\n",
    "s_latitude = southernh_df[\"Lat\"]\n",
    "s_wspeed = southernh_df[\"Wind Speed\"]\n",
    "(slope, y_intercept, rvalue, pvalue, stderr) = linregress(s_latitude, s_wspeed)\n",
    "\n",
    "#Regression values\n",
    "reg_value = s_latitude * slope + y_intercept\n",
    "\n",
    "#Line equation string.\n",
    "linear_label = f\"{round(slope, 2)}x + {round(y_intercept, 2)}\"\n",
    "linear_label\n",
    "\n",
    "#Plot.\n",
    "plt.scatter(s_latitude, s_wspeed, color=\"blue\")\n",
    "plt.xlabel(\"Latitude\")\n",
    "plt.ylabel(\"Wind Speed (mph)\")\n",
    "plt.title(\"Southern Hempisphere, Wind Speed vs Latitude.\")\n",
    "plt.grid()\n",
    "\n",
    "plt.plot(s_latitude, reg_value, \"r-\")\n",
    "plt.annotate(linear_label,(10,20), fontsize=15, color=\"red\")\n",
    "\n",
    "print(\"R-squared:\" + str(rvalue*rvalue))\n",
    "plt.show()\n",
    "\n",
    "plt.savefig(\"Images/wspeed_lat_regression_plot_south.png\")"
   ]
  },
  {
   "cell_type": "code",
   "execution_count": 35,
   "metadata": {},
   "outputs": [
    {
     "name": "stdout",
     "output_type": "stream",
     "text": [
      "Humidity (%) vs. Latitude Linear Regression Analysis\n",
      "As we can see on the plots shown above, there is no pronounced relationship between wind speed and latitude. The plot of the Northern Hemisphere looks even, except for the fact that there is no lower windspeed data when the latitude is high. While in the Southern Hemisphere there is more pronounced lower wind speed when the latitude is near 0.\n"
     ]
    }
   ],
   "source": [
    "print(\"Humidity (%) vs. Latitude Linear Regression Analysis\")\n",
    "print(\"As we can see on the plots shown above, there is no pronounced relationship between wind speed and latitude. The plot of the Northern Hemisphere looks even, except for the fact that there is no lower windspeed data when the latitude is high. While in the Southern Hemisphere there is more pronounced lower wind speed when the latitude is near 0.\")"
   ]
  },
  {
   "cell_type": "code",
   "execution_count": null,
   "metadata": {},
   "outputs": [],
   "source": []
  }
 ],
 "metadata": {
  "anaconda-cloud": {},
  "kernel_info": {
   "name": "python3"
  },
  "kernelspec": {
   "display_name": "Python 3",
   "language": "python",
   "name": "python3"
  },
  "language_info": {
   "codemirror_mode": {
    "name": "ipython",
    "version": 3
   },
   "file_extension": ".py",
   "mimetype": "text/x-python",
   "name": "python",
   "nbconvert_exporter": "python",
   "pygments_lexer": "ipython3",
   "version": "3.8.8"
  },
  "latex_envs": {
   "LaTeX_envs_menu_present": true,
   "autoclose": false,
   "autocomplete": true,
   "bibliofile": "biblio.bib",
   "cite_by": "apalike",
   "current_citInitial": 1,
   "eqLabelWithNumbers": true,
   "eqNumInitial": 1,
   "hotkeys": {
    "equation": "Ctrl-E",
    "itemize": "Ctrl-I"
   },
   "labels_anchors": false,
   "latex_user_defs": false,
   "report_style_numbering": false,
   "user_envs_cfg": false
  },
  "nteract": {
   "version": "0.12.3"
  }
 },
 "nbformat": 4,
 "nbformat_minor": 2
}
